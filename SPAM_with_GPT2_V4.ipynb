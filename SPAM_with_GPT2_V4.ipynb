{
  "cells": [
    {
      "cell_type": "code",
      "execution_count": null,
      "id": "85c15f62",
      "metadata": {
        "colab": {
          "base_uri": "https://localhost:8080/"
        },
        "id": "85c15f62",
        "outputId": "b9561372-34f3-45fc-c093-e94e3a5e679c"
      },
      "outputs": [
        {
          "output_type": "stream",
          "name": "stdout",
          "text": [
            "Requirement already satisfied: torchmetrics in /usr/local/lib/python3.10/dist-packages (1.2.1)\n",
            "Requirement already satisfied: numpy>1.20.0 in /usr/local/lib/python3.10/dist-packages (from torchmetrics) (1.23.5)\n",
            "Requirement already satisfied: packaging>17.1 in /usr/local/lib/python3.10/dist-packages (from torchmetrics) (23.2)\n",
            "Requirement already satisfied: torch>=1.8.1 in /usr/local/lib/python3.10/dist-packages (from torchmetrics) (2.1.0+cu121)\n",
            "Requirement already satisfied: lightning-utilities>=0.8.0 in /usr/local/lib/python3.10/dist-packages (from torchmetrics) (0.10.0)\n",
            "Requirement already satisfied: setuptools in /usr/local/lib/python3.10/dist-packages (from lightning-utilities>=0.8.0->torchmetrics) (67.7.2)\n",
            "Requirement already satisfied: typing-extensions in /usr/local/lib/python3.10/dist-packages (from lightning-utilities>=0.8.0->torchmetrics) (4.5.0)\n",
            "Requirement already satisfied: filelock in /usr/local/lib/python3.10/dist-packages (from torch>=1.8.1->torchmetrics) (3.13.1)\n",
            "Requirement already satisfied: sympy in /usr/local/lib/python3.10/dist-packages (from torch>=1.8.1->torchmetrics) (1.12)\n",
            "Requirement already satisfied: networkx in /usr/local/lib/python3.10/dist-packages (from torch>=1.8.1->torchmetrics) (3.2.1)\n",
            "Requirement already satisfied: jinja2 in /usr/local/lib/python3.10/dist-packages (from torch>=1.8.1->torchmetrics) (3.1.2)\n",
            "Requirement already satisfied: fsspec in /usr/local/lib/python3.10/dist-packages (from torch>=1.8.1->torchmetrics) (2023.6.0)\n",
            "Requirement already satisfied: triton==2.1.0 in /usr/local/lib/python3.10/dist-packages (from torch>=1.8.1->torchmetrics) (2.1.0)\n",
            "Requirement already satisfied: MarkupSafe>=2.0 in /usr/local/lib/python3.10/dist-packages (from jinja2->torch>=1.8.1->torchmetrics) (2.1.3)\n",
            "Requirement already satisfied: mpmath>=0.19 in /usr/local/lib/python3.10/dist-packages (from sympy->torch>=1.8.1->torchmetrics) (1.3.0)\n"
          ]
        }
      ],
      "source": [
        "!pip install torchmetrics"
      ]
    },
    {
      "cell_type": "code",
      "source": [
        "import torch\n",
        "from torch.utils.data import TensorDataset, DataLoader, RandomSampler, SequentialSampler\n",
        "from transformers import BertTokenizer, BertForSequenceClassification\n",
        "from transformers import GPT2Tokenizer, GPT2ForSequenceClassification, GPT2Config\n",
        "from sklearn.model_selection import train_test_split\n",
        "\n",
        "import pandas as pd\n",
        "import numpy as np\n",
        "\n",
        "from tabulate import tabulate\n",
        "from tqdm import trange\n",
        "import random\n",
        "from torchmetrics.classification import Recall, Accuracy, AUROC, Precision"
      ],
      "metadata": {
        "id": "X0F_Ydxvi2fe"
      },
      "id": "X0F_Ydxvi2fe",
      "execution_count": null,
      "outputs": []
    },
    {
      "cell_type": "code",
      "source": [
        "FILL = \"FILL\""
      ],
      "metadata": {
        "id": "9GPs9grPgTzU"
      },
      "id": "9GPs9grPgTzU",
      "execution_count": null,
      "outputs": []
    },
    {
      "cell_type": "code",
      "execution_count": null,
      "id": "3678adfa",
      "metadata": {
        "colab": {
          "base_uri": "https://localhost:8080/"
        },
        "id": "3678adfa",
        "outputId": "7c8174cb-db1e-4976-f921-14c95355868a"
      },
      "outputs": [
        {
          "output_type": "stream",
          "name": "stdout",
          "text": [
            "--2023-12-22 23:23:25--  https://archive.ics.uci.edu/ml/machine-learning-databases/00228/smsspamcollection.zip\n",
            "Resolving archive.ics.uci.edu (archive.ics.uci.edu)... 128.195.10.252\n",
            "Connecting to archive.ics.uci.edu (archive.ics.uci.edu)|128.195.10.252|:443... connected.\n",
            "HTTP request sent, awaiting response... 200 OK\n",
            "Length: unspecified\n",
            "Saving to: ‘smsspamcollection.zip.28’\n",
            "\n",
            "smsspamcollection.z     [  <=>               ] 198.65K   436KB/s    in 0.5s    \n",
            "\n",
            "2023-12-22 23:23:26 (436 KB/s) - ‘smsspamcollection.zip.28’ saved [203415]\n",
            "\n",
            "Archive:  smsspamcollection.zip\n",
            "  inflating: SMSSpamCollection       \n",
            "  inflating: readme                  \n"
          ]
        }
      ],
      "source": [
        "!wget 'https://archive.ics.uci.edu/ml/machine-learning-databases/00228/smsspamcollection.zip'\n",
        "!unzip -o smsspamcollection.zip"
      ]
    },
    {
      "cell_type": "code",
      "execution_count": null,
      "id": "d892553d",
      "metadata": {
        "colab": {
          "base_uri": "https://localhost:8080/"
        },
        "id": "d892553d",
        "outputId": "ca1e7a2a-0463-49a5-c7ef-9c759e0291ad"
      },
      "outputs": [
        {
          "output_type": "stream",
          "name": "stdout",
          "text": [
            "Archive:  smsspamcollection.zip\n",
            "  inflating: SMSSpamCollection       \n",
            "  inflating: readme                  \n"
          ]
        }
      ],
      "source": [
        "!unzip -o smsspamcollection.zip"
      ]
    },
    {
      "cell_type": "code",
      "execution_count": null,
      "id": "dd3d5e84",
      "metadata": {
        "colab": {
          "base_uri": "https://localhost:8080/"
        },
        "id": "dd3d5e84",
        "outputId": "43a19828-e9e8-4353-fcdd-7d89b6b07e39"
      },
      "outputs": [
        {
          "output_type": "stream",
          "name": "stdout",
          "text": [
            "ham\tGo until jurong point, crazy.. Available only in bugis n great world la e buffet... Cine there got amore wat...\n",
            "ham\tOk lar... Joking wif u oni...\n",
            "spam\tFree entry in 2 a wkly comp to win FA Cup final tkts 21st May 2005. Text FA to 87121 to receive entry question(std txt rate)T&C's apply 08452810075over18's\n",
            "ham\tU dun say so early hor... U c already then say...\n",
            "ham\tNah I don't think he goes to usf, he lives around here though\n",
            "spam\tFreeMsg Hey there darling it's been 3 week's now and no word back! I'd like some fun you up for it still? Tb ok! XxX std chgs to send, £1.50 to rcv\n",
            "ham\tEven my brother is not like to speak with me. They treat me like aids patent.\n",
            "ham\tAs per your request 'Melle Melle (Oru Minnaminunginte Nurungu Vettam)' has been set as your callertune for all Callers. Press *9 to copy your friends Callertune\n",
            "spam\tWINNER!! As a valued network customer you have been selected to receivea £900 prize reward! To claim call 09061701461. Claim code KL341. Valid 12 hours only.\n",
            "spam\tHad your mobile 11 months or more? U R entitled to Update to the latest colour mobiles with camera for Free! Call The Mobile Update Co FREE on 08002986030\n"
          ]
        }
      ],
      "source": [
        "!head -10 SMSSpamCollection"
      ]
    },
    {
      "cell_type": "code",
      "execution_count": null,
      "id": "9b12150d",
      "metadata": {
        "colab": {
          "base_uri": "https://localhost:8080/"
        },
        "id": "9b12150d",
        "outputId": "0ccc1d28-a2ee-4541-e125-1bf7b956e089"
      },
      "outputs": [
        {
          "output_type": "stream",
          "name": "stdout",
          "text": [
            "--2023-12-22 23:23:27--  https://archive.ics.uci.edu/ml/machine-learning-databases/00228/smsspamcollection.zip\n",
            "Resolving archive.ics.uci.edu (archive.ics.uci.edu)... 128.195.10.252\n",
            "Connecting to archive.ics.uci.edu (archive.ics.uci.edu)|128.195.10.252|:443... connected.\n",
            "HTTP request sent, awaiting response... 200 OK\n",
            "Length: unspecified\n",
            "Saving to: ‘smsspamcollection.zip.29’\n",
            "\n",
            "smsspamcollection.z     [  <=>               ] 198.65K   436KB/s    in 0.5s    \n",
            "\n",
            "2023-12-22 23:23:28 (436 KB/s) - ‘smsspamcollection.zip.29’ saved [203415]\n",
            "\n",
            "Archive:  smsspamcollection.zip\n",
            "  inflating: SMSSpamCollection       \n",
            "  inflating: readme                  \n"
          ]
        }
      ],
      "source": [
        "!wget 'https://archive.ics.uci.edu/ml/machine-learning-databases/00228/smsspamcollection.zip'\n",
        "!unzip -o smsspamcollection.zip"
      ]
    },
    {
      "cell_type": "code",
      "execution_count": null,
      "id": "98a736a1",
      "metadata": {
        "colab": {
          "base_uri": "https://localhost:8080/",
          "height": 260
        },
        "id": "98a736a1",
        "outputId": "1549bd90-9d49-4895-b050-d5f8a649c463"
      },
      "outputs": [
        {
          "output_type": "execute_result",
          "data": {
            "text/plain": [
              "   label                                               text\n",
              "0      0  Go until jurong point, crazy.. Available only ...\n",
              "1      0                    Ok lar... Joking wif u oni...\\n\n",
              "2      1  Free entry in 2 a wkly comp to win FA Cup fina...\n",
              "3      0  U dun say so early hor... U c already then say...\n",
              "4      0  Nah I don't think he goes to usf, he lives aro..."
            ],
            "text/html": [
              "\n",
              "  <div id=\"df-45e1104a-fb25-4bc9-a240-55c57d85def3\" class=\"colab-df-container\">\n",
              "    <div>\n",
              "<style scoped>\n",
              "    .dataframe tbody tr th:only-of-type {\n",
              "        vertical-align: middle;\n",
              "    }\n",
              "\n",
              "    .dataframe tbody tr th {\n",
              "        vertical-align: top;\n",
              "    }\n",
              "\n",
              "    .dataframe thead th {\n",
              "        text-align: right;\n",
              "    }\n",
              "</style>\n",
              "<table border=\"1\" class=\"dataframe\">\n",
              "  <thead>\n",
              "    <tr style=\"text-align: right;\">\n",
              "      <th></th>\n",
              "      <th>label</th>\n",
              "      <th>text</th>\n",
              "    </tr>\n",
              "  </thead>\n",
              "  <tbody>\n",
              "    <tr>\n",
              "      <th>0</th>\n",
              "      <td>0</td>\n",
              "      <td>Go until jurong point, crazy.. Available only ...</td>\n",
              "    </tr>\n",
              "    <tr>\n",
              "      <th>1</th>\n",
              "      <td>0</td>\n",
              "      <td>Ok lar... Joking wif u oni...\\n</td>\n",
              "    </tr>\n",
              "    <tr>\n",
              "      <th>2</th>\n",
              "      <td>1</td>\n",
              "      <td>Free entry in 2 a wkly comp to win FA Cup fina...</td>\n",
              "    </tr>\n",
              "    <tr>\n",
              "      <th>3</th>\n",
              "      <td>0</td>\n",
              "      <td>U dun say so early hor... U c already then say...</td>\n",
              "    </tr>\n",
              "    <tr>\n",
              "      <th>4</th>\n",
              "      <td>0</td>\n",
              "      <td>Nah I don't think he goes to usf, he lives aro...</td>\n",
              "    </tr>\n",
              "  </tbody>\n",
              "</table>\n",
              "</div>\n",
              "    <div class=\"colab-df-buttons\">\n",
              "\n",
              "  <div class=\"colab-df-container\">\n",
              "    <button class=\"colab-df-convert\" onclick=\"convertToInteractive('df-45e1104a-fb25-4bc9-a240-55c57d85def3')\"\n",
              "            title=\"Convert this dataframe to an interactive table.\"\n",
              "            style=\"display:none;\">\n",
              "\n",
              "  <svg xmlns=\"http://www.w3.org/2000/svg\" height=\"24px\" viewBox=\"0 -960 960 960\">\n",
              "    <path d=\"M120-120v-720h720v720H120Zm60-500h600v-160H180v160Zm220 220h160v-160H400v160Zm0 220h160v-160H400v160ZM180-400h160v-160H180v160Zm440 0h160v-160H620v160ZM180-180h160v-160H180v160Zm440 0h160v-160H620v160Z\"/>\n",
              "  </svg>\n",
              "    </button>\n",
              "\n",
              "  <style>\n",
              "    .colab-df-container {\n",
              "      display:flex;\n",
              "      gap: 12px;\n",
              "    }\n",
              "\n",
              "    .colab-df-convert {\n",
              "      background-color: #E8F0FE;\n",
              "      border: none;\n",
              "      border-radius: 50%;\n",
              "      cursor: pointer;\n",
              "      display: none;\n",
              "      fill: #1967D2;\n",
              "      height: 32px;\n",
              "      padding: 0 0 0 0;\n",
              "      width: 32px;\n",
              "    }\n",
              "\n",
              "    .colab-df-convert:hover {\n",
              "      background-color: #E2EBFA;\n",
              "      box-shadow: 0px 1px 2px rgba(60, 64, 67, 0.3), 0px 1px 3px 1px rgba(60, 64, 67, 0.15);\n",
              "      fill: #174EA6;\n",
              "    }\n",
              "\n",
              "    .colab-df-buttons div {\n",
              "      margin-bottom: 4px;\n",
              "    }\n",
              "\n",
              "    [theme=dark] .colab-df-convert {\n",
              "      background-color: #3B4455;\n",
              "      fill: #D2E3FC;\n",
              "    }\n",
              "\n",
              "    [theme=dark] .colab-df-convert:hover {\n",
              "      background-color: #434B5C;\n",
              "      box-shadow: 0px 1px 3px 1px rgba(0, 0, 0, 0.15);\n",
              "      filter: drop-shadow(0px 1px 2px rgba(0, 0, 0, 0.3));\n",
              "      fill: #FFFFFF;\n",
              "    }\n",
              "  </style>\n",
              "\n",
              "    <script>\n",
              "      const buttonEl =\n",
              "        document.querySelector('#df-45e1104a-fb25-4bc9-a240-55c57d85def3 button.colab-df-convert');\n",
              "      buttonEl.style.display =\n",
              "        google.colab.kernel.accessAllowed ? 'block' : 'none';\n",
              "\n",
              "      async function convertToInteractive(key) {\n",
              "        const element = document.querySelector('#df-45e1104a-fb25-4bc9-a240-55c57d85def3');\n",
              "        const dataTable =\n",
              "          await google.colab.kernel.invokeFunction('convertToInteractive',\n",
              "                                                    [key], {});\n",
              "        if (!dataTable) return;\n",
              "\n",
              "        const docLinkHtml = 'Like what you see? Visit the ' +\n",
              "          '<a target=\"_blank\" href=https://colab.research.google.com/notebooks/data_table.ipynb>data table notebook</a>'\n",
              "          + ' to learn more about interactive tables.';\n",
              "        element.innerHTML = '';\n",
              "        dataTable['output_type'] = 'display_data';\n",
              "        await google.colab.output.renderOutput(dataTable, element);\n",
              "        const docLink = document.createElement('div');\n",
              "        docLink.innerHTML = docLinkHtml;\n",
              "        element.appendChild(docLink);\n",
              "      }\n",
              "    </script>\n",
              "  </div>\n",
              "\n",
              "\n",
              "<div id=\"df-da24d134-5aee-4d0b-8a23-3eb06f67d340\">\n",
              "  <button class=\"colab-df-quickchart\" onclick=\"quickchart('df-da24d134-5aee-4d0b-8a23-3eb06f67d340')\"\n",
              "            title=\"Suggest charts\"\n",
              "            style=\"display:none;\">\n",
              "\n",
              "<svg xmlns=\"http://www.w3.org/2000/svg\" height=\"24px\"viewBox=\"0 0 24 24\"\n",
              "     width=\"24px\">\n",
              "    <g>\n",
              "        <path d=\"M19 3H5c-1.1 0-2 .9-2 2v14c0 1.1.9 2 2 2h14c1.1 0 2-.9 2-2V5c0-1.1-.9-2-2-2zM9 17H7v-7h2v7zm4 0h-2V7h2v10zm4 0h-2v-4h2v4z\"/>\n",
              "    </g>\n",
              "</svg>\n",
              "  </button>\n",
              "\n",
              "<style>\n",
              "  .colab-df-quickchart {\n",
              "      --bg-color: #E8F0FE;\n",
              "      --fill-color: #1967D2;\n",
              "      --hover-bg-color: #E2EBFA;\n",
              "      --hover-fill-color: #174EA6;\n",
              "      --disabled-fill-color: #AAA;\n",
              "      --disabled-bg-color: #DDD;\n",
              "  }\n",
              "\n",
              "  [theme=dark] .colab-df-quickchart {\n",
              "      --bg-color: #3B4455;\n",
              "      --fill-color: #D2E3FC;\n",
              "      --hover-bg-color: #434B5C;\n",
              "      --hover-fill-color: #FFFFFF;\n",
              "      --disabled-bg-color: #3B4455;\n",
              "      --disabled-fill-color: #666;\n",
              "  }\n",
              "\n",
              "  .colab-df-quickchart {\n",
              "    background-color: var(--bg-color);\n",
              "    border: none;\n",
              "    border-radius: 50%;\n",
              "    cursor: pointer;\n",
              "    display: none;\n",
              "    fill: var(--fill-color);\n",
              "    height: 32px;\n",
              "    padding: 0;\n",
              "    width: 32px;\n",
              "  }\n",
              "\n",
              "  .colab-df-quickchart:hover {\n",
              "    background-color: var(--hover-bg-color);\n",
              "    box-shadow: 0 1px 2px rgba(60, 64, 67, 0.3), 0 1px 3px 1px rgba(60, 64, 67, 0.15);\n",
              "    fill: var(--button-hover-fill-color);\n",
              "  }\n",
              "\n",
              "  .colab-df-quickchart-complete:disabled,\n",
              "  .colab-df-quickchart-complete:disabled:hover {\n",
              "    background-color: var(--disabled-bg-color);\n",
              "    fill: var(--disabled-fill-color);\n",
              "    box-shadow: none;\n",
              "  }\n",
              "\n",
              "  .colab-df-spinner {\n",
              "    border: 2px solid var(--fill-color);\n",
              "    border-color: transparent;\n",
              "    border-bottom-color: var(--fill-color);\n",
              "    animation:\n",
              "      spin 1s steps(1) infinite;\n",
              "  }\n",
              "\n",
              "  @keyframes spin {\n",
              "    0% {\n",
              "      border-color: transparent;\n",
              "      border-bottom-color: var(--fill-color);\n",
              "      border-left-color: var(--fill-color);\n",
              "    }\n",
              "    20% {\n",
              "      border-color: transparent;\n",
              "      border-left-color: var(--fill-color);\n",
              "      border-top-color: var(--fill-color);\n",
              "    }\n",
              "    30% {\n",
              "      border-color: transparent;\n",
              "      border-left-color: var(--fill-color);\n",
              "      border-top-color: var(--fill-color);\n",
              "      border-right-color: var(--fill-color);\n",
              "    }\n",
              "    40% {\n",
              "      border-color: transparent;\n",
              "      border-right-color: var(--fill-color);\n",
              "      border-top-color: var(--fill-color);\n",
              "    }\n",
              "    60% {\n",
              "      border-color: transparent;\n",
              "      border-right-color: var(--fill-color);\n",
              "    }\n",
              "    80% {\n",
              "      border-color: transparent;\n",
              "      border-right-color: var(--fill-color);\n",
              "      border-bottom-color: var(--fill-color);\n",
              "    }\n",
              "    90% {\n",
              "      border-color: transparent;\n",
              "      border-bottom-color: var(--fill-color);\n",
              "    }\n",
              "  }\n",
              "</style>\n",
              "\n",
              "  <script>\n",
              "    async function quickchart(key) {\n",
              "      const quickchartButtonEl =\n",
              "        document.querySelector('#' + key + ' button');\n",
              "      quickchartButtonEl.disabled = true;  // To prevent multiple clicks.\n",
              "      quickchartButtonEl.classList.add('colab-df-spinner');\n",
              "      try {\n",
              "        const charts = await google.colab.kernel.invokeFunction(\n",
              "            'suggestCharts', [key], {});\n",
              "      } catch (error) {\n",
              "        console.error('Error during call to suggestCharts:', error);\n",
              "      }\n",
              "      quickchartButtonEl.classList.remove('colab-df-spinner');\n",
              "      quickchartButtonEl.classList.add('colab-df-quickchart-complete');\n",
              "    }\n",
              "    (() => {\n",
              "      let quickchartButtonEl =\n",
              "        document.querySelector('#df-da24d134-5aee-4d0b-8a23-3eb06f67d340 button');\n",
              "      quickchartButtonEl.style.display =\n",
              "        google.colab.kernel.accessAllowed ? 'block' : 'none';\n",
              "    })();\n",
              "  </script>\n",
              "</div>\n",
              "\n",
              "    </div>\n",
              "  </div>\n"
            ]
          },
          "metadata": {},
          "execution_count": 430
        }
      ],
      "source": [
        "file_path = 'SMSSpamCollection'\n",
        "df = pd.DataFrame({'label':int(), 'text':str()}, index = [])\n",
        "with open(file_path) as f:\n",
        "    for line in f.readlines():\n",
        "        split = line.split('\\t')\n",
        "        df = pd.concat([\n",
        "                df,\n",
        "                pd.DataFrame.from_dict({\n",
        "                    'label': [1 if split[0] == 'spam' else 0],\n",
        "                    'text': [split[1]]\n",
        "                })\n",
        "            ],\n",
        "            ignore_index=True\n",
        "        )\n",
        "df.head()"
      ]
    },
    {
      "cell_type": "code",
      "execution_count": null,
      "id": "79a5cb02",
      "metadata": {
        "id": "79a5cb02"
      },
      "outputs": [],
      "source": [
        "text = df.text.values\n",
        "labels = df.label.values"
      ]
    },
    {
      "cell_type": "code",
      "execution_count": null,
      "id": "dce193a4",
      "metadata": {
        "id": "dce193a4"
      },
      "outputs": [],
      "source": [
        "# Set to the GPT2Tokenizer and set lower case to True\n",
        "tokenizer =  GPT2Tokenizer.from_pretrained(\"gpt2\") #GPT2 tokenizer; note here we do not use the usual pytorch tokenizer\n",
        "tokenizer.pad_token = tokenizer.eos_token#FILL #the question here is how we pad the tokenizer\n",
        "# Set the padding to 'left' or 'right'?\n",
        "# Remember we want to use the last token's embedding to represent the entire sentence\n",
        "tokenizer.padding_side = 'left' #we have to use left because we want the emebeddings to represent the sentence."
      ]
    },
    {
      "cell_type": "code",
      "source": [
        "labels"
      ],
      "metadata": {
        "colab": {
          "base_uri": "https://localhost:8080/"
        },
        "id": "B_RpIvBkrM9t",
        "outputId": "8fe7512e-222d-4b02-d955-451b9b89e094"
      },
      "id": "B_RpIvBkrM9t",
      "execution_count": null,
      "outputs": [
        {
          "output_type": "execute_result",
          "data": {
            "text/plain": [
              "array([0, 0, 1, ..., 0, 0, 0])"
            ]
          },
          "metadata": {},
          "execution_count": 433
        }
      ]
    },
    {
      "cell_type": "code",
      "execution_count": null,
      "id": "c00a3e7e",
      "metadata": {
        "colab": {
          "base_uri": "https://localhost:8080/"
        },
        "id": "c00a3e7e",
        "outputId": "25c8b3c9-ce70-4d47-a2c4-cc6476d9be7d"
      },
      "outputs": [
        {
          "output_type": "stream",
          "name": "stdout",
          "text": [
            "Hi! You just spoke to MANEESHA V. We'd like to know if you were satisfied with the experience. Reply Toll Free with Yes or No.\n",
            "\n",
            "╒═════════════╤═════════════╕\n",
            "│ Tokens      │   Token IDs │\n",
            "╞═════════════╪═════════════╡\n",
            "│ Hi          │       17250 │\n",
            "├─────────────┼─────────────┤\n",
            "│ !           │           0 │\n",
            "├─────────────┼─────────────┤\n",
            "│ ĠYou        │         921 │\n",
            "├─────────────┼─────────────┤\n",
            "│ Ġjust       │         655 │\n",
            "├─────────────┼─────────────┤\n",
            "│ Ġspoke      │        5158 │\n",
            "├─────────────┼─────────────┤\n",
            "│ Ġto         │         284 │\n",
            "├─────────────┼─────────────┤\n",
            "│ ĠMAN        │       17254 │\n",
            "├─────────────┼─────────────┤\n",
            "│ E           │          36 │\n",
            "├─────────────┼─────────────┤\n",
            "│ ES          │        1546 │\n",
            "├─────────────┼─────────────┤\n",
            "│ HA          │        7801 │\n",
            "├─────────────┼─────────────┤\n",
            "│ ĠV          │         569 │\n",
            "├─────────────┼─────────────┤\n",
            "│ .           │          13 │\n",
            "├─────────────┼─────────────┤\n",
            "│ ĠWe         │         775 │\n",
            "├─────────────┼─────────────┤\n",
            "│ 'd          │        1549 │\n",
            "├─────────────┼─────────────┤\n",
            "│ Ġlike       │         588 │\n",
            "├─────────────┼─────────────┤\n",
            "│ Ġto         │         284 │\n",
            "├─────────────┼─────────────┤\n",
            "│ Ġknow       │         760 │\n",
            "├─────────────┼─────────────┤\n",
            "│ Ġif         │         611 │\n",
            "├─────────────┼─────────────┤\n",
            "│ Ġyou        │         345 │\n",
            "├─────────────┼─────────────┤\n",
            "│ Ġwere       │         547 │\n",
            "├─────────────┼─────────────┤\n",
            "│ Ġsatisfied  │       11378 │\n",
            "├─────────────┼─────────────┤\n",
            "│ Ġwith       │         351 │\n",
            "├─────────────┼─────────────┤\n",
            "│ Ġthe        │         262 │\n",
            "├─────────────┼─────────────┤\n",
            "│ Ġexperience │        1998 │\n",
            "├─────────────┼─────────────┤\n",
            "│ .           │          13 │\n",
            "├─────────────┼─────────────┤\n",
            "│ ĠReply      │       14883 │\n",
            "├─────────────┼─────────────┤\n",
            "│ ĠToll       │       44786 │\n",
            "├─────────────┼─────────────┤\n",
            "│ ĠFree       │        3232 │\n",
            "├─────────────┼─────────────┤\n",
            "│ Ġwith       │         351 │\n",
            "├─────────────┼─────────────┤\n",
            "│ ĠYes        │        3363 │\n",
            "├─────────────┼─────────────┤\n",
            "│ Ġor         │         393 │\n",
            "├─────────────┼─────────────┤\n",
            "│ ĠNo         │        1400 │\n",
            "├─────────────┼─────────────┤\n",
            "│ .           │          13 │\n",
            "├─────────────┼─────────────┤\n",
            "│ Ċ           │         198 │\n",
            "╘═════════════╧═════════════╛\n"
          ]
        }
      ],
      "source": [
        "def print_rand_sentence():\n",
        "    '''Displays the tokens and respective IDs of a random text sample'''\n",
        "    index = random.randint(0, len(text)-1)\n",
        "    print(text[index])\n",
        "    table = np.array([tokenizer.tokenize(text[index]),\n",
        "                    tokenizer.convert_tokens_to_ids(tokenizer.tokenize(text[index]))]).T\n",
        "    print(tabulate(table,\n",
        "                 headers = ['Tokens', 'Token IDs'],\n",
        "                 tablefmt = 'fancy_grid'))\n",
        "\n",
        "print_rand_sentence()"
      ]
    },
    {
      "cell_type": "code",
      "execution_count": null,
      "id": "e85d0895",
      "metadata": {
        "id": "e85d0895"
      },
      "outputs": [],
      "source": [
        "token_id = []\n",
        "attention_masks = []\n",
        "\n",
        "def preprocessing(input_text, tokenizer):\n",
        "  '''\n",
        "  Returns <class transformers.tokenization_utils_base.BatchEncoding> with the following fields:\n",
        "    - input_ids: list of token ids\n",
        "    - token_type_ids: list of token type ids\n",
        "    - attention_mask: list of indices (0,1) specifying which tokens should considered by the model (return_attention_mask = True).\n",
        "  '''\n",
        "  # Use the tokenizer and the encode_plus methods to return the right data we'll need\n",
        "  # Set max_length = 32 and return_tokens = 'pt'\n",
        "  # Set other fields to the appropriate booleans needed\n",
        "  #where are the encode_plus methods; what is particular about this method succintly describe what it does\n",
        "  #1) the encode_plus method tokenizes and prepares for the model a sequence or  a pair of sequences\n",
        "  # 'pt': Return PyTorch torch.Tensor objects.\n",
        "  return tokenizer.encode_plus(text=input_text, return_tensors='pt',padding='max_length', return_attention_mask=True, truncation=True, max_length=32)#FILL\n",
        "\n",
        "\n",
        "\n",
        "for sample in text:\n",
        "    encoding_dict = preprocessing(sample, tokenizer)\n",
        "    token_id.append(encoding_dict['input_ids'])\n",
        "    attention_masks.append(encoding_dict['attention_mask'])\n",
        "\n",
        "\n",
        "# Gather all the torch_id, attention masks, and labels\n",
        "token_id = [x.squeeze(0) for x in token_id]\n",
        "#what are all the token IDs and how do we use them;\n",
        "attention_masks = [x.squeeze(0) for x in attention_masks] #FILL\n",
        "#\n",
        "labels = labels #FILL what is the use of labels what am I expected to do with the labels here"
      ]
    },
    {
      "cell_type": "code",
      "execution_count": null,
      "id": "222e06a7",
      "metadata": {
        "colab": {
          "base_uri": "https://localhost:8080/"
        },
        "id": "222e06a7",
        "outputId": "565c114d-3552-4114-8742-a636acfde370"
      },
      "outputs": [
        {
          "output_type": "stream",
          "name": "stdout",
          "text": [
            "['<|endoftext|>', '<|endoftext|>', '<|endoftext|>', '<|endoftext|>', '<|endoftext|>', '<|endoftext|>', '<|endoftext|>', '<|endoftext|>', '<|endoftext|>', '<|endoftext|>', '<|endoftext|>', '<|endoftext|>', '<|endoftext|>', '<|endoftext|>', '<|endoftext|>', '<|endoftext|>', '<|endoftext|>', '<|endoftext|>', '<|endoftext|>', '<|endoftext|>', '<|endoftext|>', '<|endoftext|>', '<|endoftext|>', 'No', '..', 'its', 'Ġful', 'Ġof', 'Ġsong', 'Ġlyrics', '..', 'Ċ']\n",
            "╒═══════════════╤═════════════╤══════════════════╕\n",
            "│ Tokens        │   Token IDs │   Attention Mask │\n",
            "╞═══════════════╪═════════════╪══════════════════╡\n",
            "│ <|endoftext|> │       50256 │                0 │\n",
            "├───────────────┼─────────────┼──────────────────┤\n",
            "│ <|endoftext|> │       50256 │                0 │\n",
            "├───────────────┼─────────────┼──────────────────┤\n",
            "│ <|endoftext|> │       50256 │                0 │\n",
            "├───────────────┼─────────────┼──────────────────┤\n",
            "│ <|endoftext|> │       50256 │                0 │\n",
            "├───────────────┼─────────────┼──────────────────┤\n",
            "│ <|endoftext|> │       50256 │                0 │\n",
            "├───────────────┼─────────────┼──────────────────┤\n",
            "│ <|endoftext|> │       50256 │                0 │\n",
            "├───────────────┼─────────────┼──────────────────┤\n",
            "│ <|endoftext|> │       50256 │                0 │\n",
            "├───────────────┼─────────────┼──────────────────┤\n",
            "│ <|endoftext|> │       50256 │                0 │\n",
            "├───────────────┼─────────────┼──────────────────┤\n",
            "│ <|endoftext|> │       50256 │                0 │\n",
            "├───────────────┼─────────────┼──────────────────┤\n",
            "│ <|endoftext|> │       50256 │                0 │\n",
            "├───────────────┼─────────────┼──────────────────┤\n",
            "│ <|endoftext|> │       50256 │                0 │\n",
            "├───────────────┼─────────────┼──────────────────┤\n",
            "│ <|endoftext|> │       50256 │                0 │\n",
            "├───────────────┼─────────────┼──────────────────┤\n",
            "│ <|endoftext|> │       50256 │                0 │\n",
            "├───────────────┼─────────────┼──────────────────┤\n",
            "│ <|endoftext|> │       50256 │                0 │\n",
            "├───────────────┼─────────────┼──────────────────┤\n",
            "│ <|endoftext|> │       50256 │                0 │\n",
            "├───────────────┼─────────────┼──────────────────┤\n",
            "│ <|endoftext|> │       50256 │                0 │\n",
            "├───────────────┼─────────────┼──────────────────┤\n",
            "│ <|endoftext|> │       50256 │                0 │\n",
            "├───────────────┼─────────────┼──────────────────┤\n",
            "│ <|endoftext|> │       50256 │                0 │\n",
            "├───────────────┼─────────────┼──────────────────┤\n",
            "│ <|endoftext|> │       50256 │                0 │\n",
            "├───────────────┼─────────────┼──────────────────┤\n",
            "│ <|endoftext|> │       50256 │                0 │\n",
            "├───────────────┼─────────────┼──────────────────┤\n",
            "│ <|endoftext|> │       50256 │                0 │\n",
            "├───────────────┼─────────────┼──────────────────┤\n",
            "│ <|endoftext|> │       50256 │                0 │\n",
            "├───────────────┼─────────────┼──────────────────┤\n",
            "│ <|endoftext|> │       50256 │                0 │\n",
            "├───────────────┼─────────────┼──────────────────┤\n",
            "│ No            │        2949 │                1 │\n",
            "├───────────────┼─────────────┼──────────────────┤\n",
            "│ ..            │         492 │                1 │\n",
            "├───────────────┼─────────────┼──────────────────┤\n",
            "│ its           │         896 │                1 │\n",
            "├───────────────┼─────────────┼──────────────────┤\n",
            "│ Ġful          │       46246 │                1 │\n",
            "├───────────────┼─────────────┼──────────────────┤\n",
            "│ Ġof           │         286 │                1 │\n",
            "├───────────────┼─────────────┼──────────────────┤\n",
            "│ Ġsong         │        3496 │                1 │\n",
            "├───────────────┼─────────────┼──────────────────┤\n",
            "│ Ġlyrics       │       15844 │                1 │\n",
            "├───────────────┼─────────────┼──────────────────┤\n",
            "│ ..            │         492 │                1 │\n",
            "├───────────────┼─────────────┼──────────────────┤\n",
            "│ Ċ             │         198 │                1 │\n",
            "╘═══════════════╧═════════════╧══════════════════╛\n"
          ]
        }
      ],
      "source": [
        "def print_rand_sentence_encoding():\n",
        "    '''Displays tokens, token IDs and attention mask of a random text sample'''\n",
        "    index = random.randint(0, len(text) - 1)\n",
        "    tokens = tokenizer.tokenize(tokenizer.decode(token_id[index]))\n",
        "    print(tokens)\n",
        "    token_ids = [i.numpy() for i in token_id[index]]\n",
        "    attention = [i.numpy() for i in attention_masks[index]]\n",
        "    table = np.array([tokens, token_ids, attention]).T\n",
        "    print(\n",
        "        tabulate(\n",
        "            table,\n",
        "            headers = ['Tokens', 'Token IDs', 'Attention Mask'],\n",
        "            tablefmt = 'fancy_grid')\n",
        "    )\n",
        "\n",
        "print_rand_sentence_encoding()"
      ]
    },
    {
      "cell_type": "code",
      "execution_count": null,
      "id": "e1c2c10b",
      "metadata": {
        "id": "e1c2c10b"
      },
      "outputs": [],
      "source": [
        "val_ratio = 0.2\n",
        "# Recommended batch size: 16, 32. See: https://arxiv.org/pdf/1810.04805.pdf\n",
        "batch_size = 16\n",
        "\n",
        "# Indices of the train and validation splits stratified by labels\n",
        "# Use train_test_split\n",
        "train_idx, val_idx = train_test_split(np.arange(len(labels)), test_size=val_ratio, shuffle=True, stratify=labels)#FILL\n",
        "\n",
        "# Train and validation sets\n",
        "# Set to TensorDataset\n",
        "\n",
        "train_set = TensorDataset(torch.tensor(train_idx)) #Fill\n",
        "val_set = TensorDataset(torch.tensor(val_idx)) #Fill\n",
        "\n",
        "# Prepare DataLoader\n",
        "train_dataloader = DataLoader(train_set, batch_size=batch_size) #FILL\n",
        "validation_dataloader = DataLoader(val_set, batch_size=batch_size) #FILL\n"
      ]
    },
    {
      "cell_type": "markdown",
      "id": "40bcf8c4",
      "metadata": {
        "id": "40bcf8c4"
      },
      "source": [
        "### Load specific versions of the model"
      ]
    },
    {
      "cell_type": "code",
      "execution_count": null,
      "id": "f85fc88e",
      "metadata": {
        "colab": {
          "base_uri": "https://localhost:8080/"
        },
        "id": "f85fc88e",
        "outputId": "ceae71f4-2344-41b1-9828-b7d07f7dc98b"
      },
      "outputs": [
        {
          "output_type": "stream",
          "name": "stderr",
          "text": [
            "Some weights of GPT2ForSequenceClassification were not initialized from the model checkpoint at gpt2 and are newly initialized: ['score.weight']\n",
            "You should probably TRAIN this model on a down-stream task to be able to use it for predictions and inference.\n"
          ]
        }
      ],
      "source": [
        "# Load the BertForSequenceClassification model\n",
        "# Do not ouput the attentions and all hidden states\n",
        "\n",
        "config = GPT2Config.from_pretrained('gpt2')#FILL\n",
        "\n",
        "# Set to 'gpt2' (the smallest GPT2 which is 120 M parameters)\n",
        "# Use the config above and set other labels as needed\n",
        "model = GPT2ForSequenceClassification.from_pretrained('gpt2')#FILL\n",
        "\n",
        "# Set the pad token id to the eos token id\n",
        "model.config.pad_token_id = tokenizer.eos_token_id\n",
        "# Recommended learning rates (Adam): 5e-5, 3e-5, 2e-5\n",
        "# See: https://arxiv.org/pdf/1810.04805.pdf\n",
        "optimizer = torch.optim.AdamW(\n",
        "    model.parameters(),\n",
        "    lr = 5e-5,\n",
        "    eps = 1e-08\n",
        ")"
      ]
    },
    {
      "cell_type": "code",
      "source": [
        "tokenizer.eos_token_id"
      ],
      "metadata": {
        "colab": {
          "base_uri": "https://localhost:8080/"
        },
        "id": "gB55lW6-gobR",
        "outputId": "293338e5-7095-4129-84a5-8b457a6a6a27"
      },
      "id": "gB55lW6-gobR",
      "execution_count": null,
      "outputs": [
        {
          "output_type": "execute_result",
          "data": {
            "text/plain": [
              "50256"
            ]
          },
          "metadata": {},
          "execution_count": 439
        }
      ]
    },
    {
      "cell_type": "markdown",
      "id": "a36b60bf",
      "metadata": {
        "id": "a36b60bf"
      },
      "source": [
        "### Set the model to the right device"
      ]
    },
    {
      "cell_type": "code",
      "execution_count": null,
      "id": "071b1a84",
      "metadata": {
        "id": "071b1a84"
      },
      "outputs": [],
      "source": [
        "# If on GPU, do as below\n",
        "device = torch.device('cuda' if torch.cuda.is_available() else 'cpu')#FILL\n"
      ]
    },
    {
      "cell_type": "code",
      "execution_count": null,
      "id": "4811b9f5",
      "metadata": {
        "id": "4811b9f5"
      },
      "outputs": [],
      "source": [
        "model = model.to(device)\n",
        "\n",
        "# Recommended number of epochs: See: https://arxiv.org/pdf/1810.04805.pdf\n",
        "epochs = 2"
      ]
    },
    {
      "cell_type": "code",
      "execution_count": null,
      "id": "f9f4e75e",
      "metadata": {
        "id": "f9f4e75e"
      },
      "outputs": [],
      "source": [
        "# Print all the layers of this GPT2 model and the number of parameters per layer\n",
        "# If this is False, fine tune just the classifier layer and leave all other GPT2 parameters alone\n",
        "# If this is True, fine tune everything\n",
        "fine_tune = True\n",
        "# Turn off gradients using the above#\n",
        "#model.no_grad()\n",
        "params = torch.cat([param.flatten() for param in model.parameters()]) #they are flattened becaus ethey must have the same dimension in the tensor\n",
        "#here you have to figure out what flatten does\n",
        "# flatten()\n",
        "if not fine_tune:\n",
        "  for i, param in enumerate(model.parameters()):\n",
        "      param.requires_grad_(False)\n",
        "\n",
        "total_parameters = torch.numel(params)\n",
        "#total_paramters = len(params)\n",
        "assert(total_parameters == 124441344)"
      ]
    },
    {
      "cell_type": "markdown",
      "id": "765fc3a1",
      "metadata": {
        "id": "765fc3a1"
      },
      "source": [
        "### Train the model"
      ]
    },
    {
      "cell_type": "code",
      "execution_count": null,
      "id": "bf0b712e",
      "metadata": {
        "id": "bf0b712e"
      },
      "outputs": [],
      "source": [
        "# Use torchmetrics to set up accuracy, recall, precision, and auroc\n",
        "accuracy = Accuracy(task='binary').to(device)\n",
        "recall = Recall(task='binary').to(device)\n",
        "precision = Precision(task='binary').to(device)\n",
        "auroc = AUROC(task='binary').to(device)"
      ]
    },
    {
      "cell_type": "code",
      "execution_count": null,
      "id": "084519f5",
      "metadata": {
        "id": "084519f5",
        "colab": {
          "base_uri": "https://localhost:8080/"
        },
        "outputId": "c358acf6-735b-4f7a-ae43-133763724b8d"
      },
      "outputs": [
        {
          "output_type": "stream",
          "name": "stderr",
          "text": [
            "\rEpoch:   0%|          | 0/2 [00:00<?, ?it/s]/usr/local/lib/python3.10/dist-packages/torchmetrics/utilities/prints.py:43: UserWarning: No positive samples in targets, true positive value should be meaningless. Returning zero tensor in true positive score\n",
            "  warnings.warn(*args, **kwargs)  # noqa: B028\n",
            "Epoch:  50%|█████     | 1/2 [00:40<00:40, 40.11s/it]"
          ]
        },
        {
          "output_type": "stream",
          "name": "stdout",
          "text": [
            "\n",
            "\t - Train loss: 0.1711\n",
            "\t - Validation Accuracy: 0.9759\n",
            "\t - Validation Precision: 0.8000\n",
            "\t - Validation Recall: 0.8861\n",
            "\t - Validation AUROC: 0.8831\n",
            "\n"
          ]
        },
        {
          "output_type": "stream",
          "name": "stderr",
          "text": [
            "Epoch: 100%|██████████| 2/2 [01:18<00:00, 39.38s/it]"
          ]
        },
        {
          "output_type": "stream",
          "name": "stdout",
          "text": [
            "\n",
            "\t - Train loss: 0.0450\n",
            "\t - Validation Accuracy: 0.9911\n",
            "\t - Validation Precision: 0.8702\n",
            "\t - Validation Recall: 0.8872\n",
            "\t - Validation AUROC: 0.8911\n",
            "\n"
          ]
        },
        {
          "output_type": "stream",
          "name": "stderr",
          "text": [
            "\n"
          ]
        }
      ],
      "source": [
        "for _ in trange(epochs, desc = 'Epoch'):\n",
        "\n",
        "    # ========== Training ==========\n",
        "\n",
        "    # Set model to training mode\n",
        "    model.train(True)\n",
        "\n",
        "    # Tracking variables\n",
        "    tr_loss = 0\n",
        "    nb_tr_examples, nb_tr_steps = 0, 0\n",
        "\n",
        "    for step, batch in enumerate(train_dataloader):\n",
        "        # Put each element of batch onto the device\n",
        "\n",
        "        batch = [x.to(device) for x in batch[0]]\n",
        "        #print(batch)\n",
        "        # Unpack the batch\n",
        "        inputs_tmp = [token_id[int(x.item())] for x in batch]\n",
        "        attention_tmp = [attention_masks[int(x.item())] for x in batch]\n",
        "        labels_tmp = torch.tensor([labels[int(x.item())] for x in batch]).to(device)\n",
        "\n",
        "        inputs_tmp = torch.stack(inputs_tmp, 0).type('torch.LongTensor')\n",
        "        attention_tmp = torch.stack(attention_tmp, 0).type('torch.FloatTensor')\n",
        "        #labels_tmp = torch.tensor([torch.tensor(labels[int(x.item())]).type('torch.FloatTensor').to(device) for x in batch]).type('torch.FloatTensor').to(device)\n",
        "        #labels_tmp = torch.cat(labels_tmp, dim=1).type('torch.FloatTensor').to(device)\n",
        "\n",
        "        #print(attention_tmp)\n",
        "        #print(inputstmp)\n",
        "        #print(labels_tmp)\n",
        "        #how do you unpack the batch and why does it have to be unpacked\n",
        "\n",
        "        # Set gradients to zero\n",
        "        model.zero_grad() #FILL\n",
        "\n",
        "        # Forward pass\n",
        "        train_output = model(input_ids=inputs_tmp.to(device), attention_mask=attention_tmp.to(device), labels=labels_tmp, token_type_ids = None)\n",
        "\n",
        "        # Backward pass# Main training / validation loop\n",
        "\n",
        "        loss = train_output.loss\n",
        "        loss.backward() #FILL\n",
        "        optimizer.step()#FILL\n",
        "\n",
        "\n",
        "\n",
        "        # Update tracking variables\n",
        "        tr_loss +=  loss.item()\n",
        "        nb_tr_examples += 1#ILL\n",
        "        nb_tr_steps += 1# FILL\n",
        "\n",
        "    # ========== Validation ==========\n",
        "\n",
        "    # Set model to evaluation mode\n",
        "    model.eval()#FILL\n",
        "\n",
        "    # Tracking variables\n",
        "    val_accuracy = []\n",
        "    val_precision = []\n",
        "    val_recall = []\n",
        "    val_auroc = []\n",
        "\n",
        "    for batch in validation_dataloader:\n",
        "        batch =  [x.to(device) for x in batch[0]]#FILL\n",
        "\n",
        "        # Unpack the batch\n",
        "        #FILL\n",
        "        inputs_tmp = [token_id[int(x.item())] for x in batch]\n",
        "        attention_tmp = [attention_masks[int(x.item())]for x in batch]\n",
        "        labels_tmp = torch.tensor([labels[int(x.item())] for x in batch]).to(device)\n",
        "\n",
        "        inputs_tmp = torch.stack(inputs_tmp, 0).type('torch.LongTensor')\n",
        "        attention_tmp = torch.stack(attention_tmp, 0).type('torch.FloatTensor')\n",
        "\n",
        "        with torch.no_grad():\n",
        "          # Forward pass\n",
        "            eval_output = model(input_ids=inputs_tmp.to(device), token_type_ids = None, attention_mask=attention_tmp.to(device))\n",
        "\n",
        "        # Calculate validation metrics\n",
        "        labels2 = labels_tmp#FILL\n",
        "        predicted_labels = eval_output.logits.argmax(axis=-1).flatten().to(device)#FILL\n",
        "\n",
        "        val_accuracy.append(accuracy(predicted_labels, labels2))\n",
        "        val_recall.append(recall(predicted_labels, labels2))\n",
        "        val_precision.append(precision(predicted_labels, labels2))\n",
        "        val_auroc.append(auroc(predicted_labels, labels2))\n",
        "\n",
        "    print('\\n\\t - Train loss: {:.4f}'.format(tr_loss / nb_tr_steps))\n",
        "    print('\\t - Validation Accuracy: {:.4f}'.format(sum(val_accuracy)/len(val_accuracy)))\n",
        "    print('\\t - Validation Precision: {:.4f}'.format(sum(val_precision)/len(val_precision)))\n",
        "    print('\\t - Validation Recall: {:.4f}'.format(sum(val_recall)/len(val_recall)))\n",
        "    print('\\t - Validation AUROC: {:.4f}\\n'.format(sum(val_auroc)/len(val_auroc)))"
      ]
    },
    {
      "cell_type": "markdown",
      "id": "13d64bc6",
      "metadata": {
        "id": "13d64bc6"
      },
      "source": [
        "### Test on a specific sentence, see the outcome"
      ]
    },
    {
      "cell_type": "code",
      "execution_count": null,
      "id": "6dfcd9e7",
      "metadata": {
        "id": "6dfcd9e7",
        "colab": {
          "base_uri": "https://localhost:8080/"
        },
        "outputId": "12393b6a-3878-4357-e02a-9d56d5569eca"
      },
      "outputs": [
        {
          "output_type": "stream",
          "name": "stdout",
          "text": [
            "Input Sentence:  WINNER!! As a valued network customer you have been selected to receivea £900 prize reward! To claim call 09061701461. Claim code KL341. Valid 12 hours only.\n",
            "Predicted Class:  Spam\n"
          ]
        }
      ],
      "source": [
        "new_sentence = 'WINNER!! As a valued network customer you have been selected to receivea £900 prize reward! To claim call 09061701461. Claim code KL341. Valid 12 hours only.'\n",
        "\n",
        "# We need Token IDs and Attention Mask for inference on the new sentence\n",
        "test_ids = []\n",
        "test_attention_mask = []\n",
        "\n",
        "# Apply the tokenizer\n",
        "encoding = preprocessing(new_sentence, tokenizer)\n",
        "\n",
        "# Extract IDs and Attention Mask\n",
        "test_ids.append(encoding['input_ids'])\n",
        "test_attention_mask.append(encoding['attention_mask'])\n",
        "test_ids = torch.cat(test_ids, dim = 0)\n",
        "test_attention_mask = torch.cat(test_attention_mask, dim = 0)\n",
        "\n",
        "# Forward pass, calculate logit predictions\n",
        "with torch.no_grad():\n",
        "    output = model(test_ids.to(device), token_type_ids = None, attention_mask = test_attention_mask.to(device))\n",
        "\n",
        "prediction = 'Spam' if np.argmax(output.logits.cpu().numpy()).flatten().item() == 1 else 'Ham'\n",
        "\n",
        "print('Input Sentence: ', new_sentence)\n",
        "print('Predicted Class: ', prediction)\n",
        "\n",
        "#here"
      ]
    },
    {
      "cell_type": "code",
      "execution_count": null,
      "id": "e4453061",
      "metadata": {
        "id": "e4453061"
      },
      "outputs": [],
      "source": []
    },
    {
      "cell_type": "markdown",
      "id": "a0c41741",
      "metadata": {
        "id": "a0c41741"
      },
      "source": [
        "### Questions"
      ]
    },
    {
      "cell_type": "markdown",
      "id": "875fab6d",
      "metadata": {
        "id": "875fab6d"
      },
      "source": [
        "Question 1: Run the above by fine tuning GPT2 and the classfier head and by not doing this (using GPT2 as a feature encoder). What is the gap between this? What are the metrics we get in each case?"
      ]
    },
    {
      "cell_type": "markdown",
      "id": "ae772301",
      "metadata": {
        "id": "ae772301"
      },
      "source": [
        "Solution: FILL Paste your output here\n",
        "\n",
        "\n",
        "This is when fine_tuning is set ti true:\n",
        "\n",
        "Epoch:   0%|          | 0/2 [00:00<?, ?it/s]/usr/local/lib/python3.10/dist-packages/torchmetrics/utilities/prints.py:43: UserWarning: No positive samples in targets, true positive value should be meaningless. Returning zero tensor in true positive score\n",
        "warnings.warn(*args, **kwargs)  # noqa: B028\n",
        "\n",
        "Epoch:  50%|█████     | 1/2 [00:41<00:41, 41.05s/it]\n",
        "> Train loss: 0.1206\n",
        "> Validation Accuracy: 0.9866\n",
        "\n",
        "> Validation Precision: 0.8893\n",
        "\n",
        "> Validation Recall: 0.9233\n",
        "\n",
        "> Validation AUROC: 0.9279\n",
        "\n",
        "\n",
        "Epoch: 100%|██████████| 2/2 [01:19<00:00, 39.73s/it]\n",
        "\n",
        "> Train loss: 0.0396\n",
        "\n",
        "> Validation Accuracy: 0.9830\n",
        "\n",
        "> Validation Precision: 0.8721\n",
        "\n",
        "> Validation Recall: 0.9281\n",
        "\n",
        "> Validation AUROC: 0.9275\n",
        "\n",
        "\n",
        "By contrast here is the out put without fine_tuning:\n",
        "\n",
        "\n",
        "Epoch:   0%|          | 0/2 [00:00<?, ?it/s]/usr/local/lib/python3.10/dist-packages/torchmetrics/utilities/prints.py:43: UserWarning: No positive samples in targets, true positive value should be meaningless. Returning zero tensor in true positive score\n",
        "  warnings.warn(*args, **kwargs)  # noqa: B028\n",
        "\n",
        "Epoch:  50%|█████     | 1/2 [00:29<00:29, 29.65s/it]\n",
        "\n",
        "> Train loss: 3.2346\n",
        "\n",
        "> Validation Accuracy: 0.2410\n",
        "> Validation Precision: 0.1436\n",
        "> Validation Recall: 0.8417\n",
        "> Validation AUROC: 0.4780\n",
        "\n",
        "Epoch: 100%|██████████| 2/2 [01:00<00:00, 30.15s/it]\n",
        "> Train loss: 3.2121\n",
        "\n",
        "> Validation Accuracy: 0.2410\n",
        "\n",
        "> Validation Precision: 0.1436\n",
        "\n",
        "> Validation Recall: 0.8417\n",
        "\n",
        "> Validation AUROC: 0.4780\n",
        "\n",
        "\n",
        "As seen above, the loss is significantly greater and all 4 key performance indicators are lower in comparison. Only recall remains more or less closer."
      ]
    },
    {
      "cell_type": "code",
      "execution_count": null,
      "id": "071f0f80",
      "metadata": {
        "id": "071f0f80"
      },
      "outputs": [],
      "source": []
    }
  ],
  "metadata": {
    "kernelspec": {
      "display_name": "Python 3",
      "name": "python3"
    },
    "language_info": {
      "codemirror_mode": {
        "name": "ipython",
        "version": 3
      },
      "file_extension": ".py",
      "mimetype": "text/x-python",
      "name": "python",
      "nbconvert_exporter": "python",
      "pygments_lexer": "ipython3",
      "version": "3.8.15"
    },
    "colab": {
      "provenance": [],
      "gpuType": "T4"
    },
    "accelerator": "GPU"
  },
  "nbformat": 4,
  "nbformat_minor": 5
}